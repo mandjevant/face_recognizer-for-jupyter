{
 "cells": [
  {
   "cell_type": "code",
   "execution_count": null,
   "metadata": {},
   "outputs": [],
   "source": [
    "#dataSetTrainer\n",
    "\n",
    "import cv2,os\n",
    "import sys\n",
    "import numpy as np\n",
    "from PIL import Image\n",
    "\n",
    "# Get user supplied values\n",
    "databasePath = #Add the path to your .jpg database (only named by number) \n",
    "imagePath = #Add the path to the image you want to be recognized\n",
    "face_cascadePath = #Add the path to haarcascade_frontalface_default.xml\"\n",
    "eye_cascadePath = #Add the path to haarcascade_eye.xml\"\n",
    "upperbody_cascadePath = #Add the path to haarcascade_upperbody.xml\"\n",
    "fullbody_cascadePath = #Add the path to haarcascade_fullbody.xml\"\n",
    "\n",
    "# Create the haar cascade\n",
    "faceCascade = cv2.CascadeClassifier(face_cascadePath)\n",
    "eyeCascade = cv2.CascadeClassifier(eye_cascadePath)\n",
    "upperbodyCascade = cv2.CascadeClassifier(upperbody_cascadePath)\n",
    "fullbodyCascade = cv2.CascadeClassifier(fullbody_cascadePath)\n",
    "\n",
    "recognizer = cv2.face.createLBPHFaceRecognizer()\n",
    "\n",
    "def getImagesAndLabels(databasePath):\n",
    "    imagePaths = [os.path.join(databasePath,f) for f in os.listdir(databasePath)] #get the path of all the files in the folder\n",
    "    faceSamples = [] #create empty face list\n",
    "    Ids = [] #create empty ID list\n",
    "    for imagePath in imagePaths: #now looping through all the image paths and loading the Ids and the images\n",
    "        if(os.path.split(imagePath)[-1].split(\".\")[-1]!='jpg'): # ignore if the file does not have jpg extension :\n",
    "            continue\n",
    "        pilImage = Image.open(imagePath).convert('L') #loading the image and converting it to gray scale\n",
    "        imageNp = np.array(pilImage,'uint8') #Now we are converting the PIL image into numpy array\n",
    "        Id = int(os.path.split(imagePath)[-1].split(\".\")[0]) #getting the Id from the image\n",
    "        faces = faceCascade.detectMultiScale(imageNp) # extract the face from the training image sample\n",
    "        for (x,y,w,h) in faces: #If a face is there then append that in the list as well as Id of it\n",
    "            faceSamples.append(imageNp[y:y+h,x:x+w])\n",
    "            Ids.append(Id)\n",
    "    return faceSamples, Ids\n",
    "\n",
    "faces, Ids = getImagesAndLabels(databasePath)\n",
    "recognizer.train(faces, np.array(Ids))\n",
    "recognizer.save() #Add path where you want to save the trainer.yml"
   ]
  }
 ],
 "metadata": {
  "kernelspec": {
   "display_name": "Python 3",
   "language": "python",
   "name": "python3"
  },
  "language_info": {
   "codemirror_mode": {
    "name": "ipython",
    "version": 3
   },
   "file_extension": ".py",
   "mimetype": "text/x-python",
   "name": "python",
   "nbconvert_exporter": "python",
   "pygments_lexer": "ipython3",
   "version": "3.5.5"
  },
  "widgets": {
   "state": {},
   "version": "1.1.2"
  }
 },
 "nbformat": 4,
 "nbformat_minor": 2
}
